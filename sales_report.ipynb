{
 "cells": [
  {
   "cell_type": "code",
   "execution_count": null,
   "metadata": {},
   "outputs": [],
   "source": [
    "import pandas as pd \n",
    "import os\n",
    "import matplotlib.pyplot as plt"
   ]
  },
  {
   "cell_type": "code",
   "execution_count": null,
   "metadata": {},
   "outputs": [],
   "source": [
    "#path = 'D:\\\\data_venv\\\\salesreport\\\\sales2019_1.csv'\n",
    "#dataframe = pd.read_csv(path)\n",
    "#dataframe.head(20)\n",
    "path = 'D:\\\\data_venv\\\\salesreport\\\\'\n",
    "os.listdir(path)"
   ]
  },
  {
   "cell_type": "markdown",
   "metadata": {},
   "source": [
    "## TASK 2: CLEAN AND PROCESS DATA"
   ]
  },
  {
   "cell_type": "markdown",
   "metadata": {},
   "source": [
    "### 2.1 MERGE 12-MONTH DATA"
   ]
  },
  {
   "cell_type": "code",
   "execution_count": null,
   "metadata": {},
   "outputs": [],
   "source": [
    "## The data for each month was saved in separate files, and we need to reconcile them into one file\n",
    "path = 'D:\\\\data_venv\\\\salesreport\\\\'\n",
    "filepaths = []\n",
    "frames = []\n",
    "\n",
    "for file in os.listdir(path):\n",
    "    if file.endswith('.csv'):\n",
    "        filepath = os.path.join(path, file)  # Use os.path.join to create the full path\n",
    "        filepaths.append(filepath)\n",
    "        df1 = pd.read_csv(filepath)  # Read each CSV file into df1\n",
    "        frames.append(df1)  # Append df1 to the frames list\n",
    "\n",
    "result = pd.concat(frames, ignore_index=True)  # Concatenate all DataFrames in the frames list\n",
    "result.to_csv('annualSales2019.csv', index=False)  # Save the concatenated DataFrame to a single CSV file\n",
    "df = result"
   ]
  },
  {
   "cell_type": "markdown",
   "metadata": {},
   "source": [
    "#### QUESTION 1: WHAT WAS THE BEST MONTH FOR SALES? HOW MUCH WAS EARNED THAT MONTH?"
   ]
  },
  {
   "cell_type": "code",
   "execution_count": null,
   "metadata": {},
   "outputs": [],
   "source": [
    "# Add new column\n",
    "df.loc[:, 'month'] = df['Order Date'].str.slice(0, 2)\n",
    "# hoặc df['Order Date].str[0:2]\n",
    "df.head(50)\n",
    "print(set(df['month']))"
   ]
  },
  {
   "cell_type": "markdown",
   "metadata": {},
   "source": [
    "### TASK1: GET RID OF NAN, OR VALUE"
   ]
  },
  {
   "cell_type": "code",
   "execution_count": null,
   "metadata": {},
   "outputs": [],
   "source": [
    "df = df.dropna(how='all')\n",
    "df.head()"
   ]
  },
  {
   "cell_type": "code",
   "execution_count": null,
   "metadata": {},
   "outputs": [],
   "source": [
    "df = df[df['month'] != 'Or']\n",
    "print(set(df['month']))"
   ]
  },
  {
   "cell_type": "code",
   "execution_count": null,
   "metadata": {},
   "outputs": [],
   "source": [
    "print(df['Quantity Ordered'].dtypes)\n",
    "print(df['Price Each'].dtypes)"
   ]
  },
  {
   "cell_type": "markdown",
   "metadata": {},
   "source": [
    "TASK2: REPORTING"
   ]
  },
  {
   "cell_type": "code",
   "execution_count": null,
   "metadata": {},
   "outputs": [],
   "source": [
    "# Convert 'Quantity Ordered' and 'Price Each' columns to numeric (if they are not already)\n",
    "#df['Quantity Ordered'] = pd.to_numeric(df['Quantity Ordered'], errors='coerce')\n",
    "#df['Price Each'] = pd.to_numeric(df['Price Each'], errors='coerce')\n",
    "\n",
    "df['Quantity Ordered'] = pd.to_numeric(df['Quantity Ordered'], downcast = 'integer')\n",
    "df['Price Each'] = pd.to_numeric(df['Price Each'], downcast = 'float')\n",
    "\n",
    "# Create the 'Sales' column by multiplying the two numeric columns\n",
    "df['Sales'] = df['Quantity Ordered'] * df['Price Each']\n",
    "\n",
    "# Display the first 10 rows to check the result\n",
    "df.head()"
   ]
  },
  {
   "cell_type": "code",
   "execution_count": null,
   "metadata": {},
   "outputs": [],
   "source": [
    "column_to_move = df.pop(\"Sales\")\n",
    "# insert column with insert(location, column_name, column_value)\n",
    "df.insert(4, \"Sales\", column_to_move)\n",
    "df.head()"
   ]
  },
  {
   "cell_type": "code",
   "execution_count": null,
   "metadata": {},
   "outputs": [],
   "source": [
    "# Group the DataFrame by the 'month' column and calculate the sum of 'Sales' in each group\n",
    "monthly_revenue = df.groupby('month')['Sales'].sum()\n",
    "print(monthly_revenue)"
   ]
  },
  {
   "cell_type": "code",
   "execution_count": null,
   "metadata": {},
   "outputs": [],
   "source": [
    "# Calculate the 'Sales' column by multiplying 'Quantity Ordered' and 'Price Each'\n",
    "df['Sales'] = df['Quantity Ordered'] * df['Price Each']\n",
    "\n",
    "# Group the DataFrame by 'month' and calculate the sum of sales for each month\n",
    "monthly_revenue = df.groupby('month')['Sales'].sum().reset_index()\n",
    "\n",
    "# Find the row with the highest sales\n",
    "highest_sales_row = monthly_revenue[monthly_revenue['Sales'] == monthly_revenue['Sales'].max()]\n",
    "\n",
    "# Extract the month and sales value from the row\n",
    "highest_sales_month_name = highest_sales_row['month'].values[0]\n",
    "highest_sales_value = highest_sales_row['Sales'].values[0]\n",
    "\n",
    "# Display the result\n",
    "print(f\"The month with the highest sales is {highest_sales_month_name} with total sales of ${highest_sales_value:.2f}\")\n"
   ]
  },
  {
   "cell_type": "code",
   "execution_count": null,
   "metadata": {},
   "outputs": [],
   "source": [
    "sales_value = df.groupby('month').sum()['Sales']\n",
    "months = range(1,13)\n",
    "plt.bar(x = months, height = sales_value)\n",
    "plt.xticks(months)\n",
    "plt.xlabel('Months')\n",
    "plt.ylabel('Sales')\n",
    "plt.show"
   ]
  },
  {
   "cell_type": "markdown",
   "metadata": {},
   "source": [
    "##WHAT CITY HAS THE BEST REVENUE?"
   ]
  },
  {
   "cell_type": "code",
   "execution_count": null,
   "metadata": {},
   "outputs": [],
   "source": [
    "df.head()"
   ]
  },
  {
   "cell_type": "code",
   "execution_count": null,
   "metadata": {},
   "outputs": [],
   "source": [
    "address_to_city = lambda address:address.split(',')[1]"
   ]
  },
  {
   "cell_type": "code",
   "execution_count": null,
   "metadata": {},
   "outputs": [],
   "source": [
    "df['City'] = df['Purchase Address'].apply(address_to_city)\n",
    "df.head()"
   ]
  },
  {
   "cell_type": "code",
   "execution_count": null,
   "metadata": {},
   "outputs": [],
   "source": [
    "df.groupby('City').sum()['Sales']"
   ]
  },
  {
   "cell_type": "code",
   "execution_count": null,
   "metadata": {},
   "outputs": [],
   "source": [
    "sales_values_city = df.groupby('City').sum()['Sales']\n",
    "sales_values_city.max()\n"
   ]
  },
  {
   "cell_type": "code",
   "execution_count": null,
   "metadata": {},
   "outputs": [],
   "source": [
    "cities = []\n",
    "for city, sales in sales_values_city.items():\n",
    "    cities.append(city)\n",
    "print(cities)\n",
    "list(set(df['City']))  # Convert the set to a list\n",
    "plt.bar(x=cities, height=sales_values_city)\n",
    "plt.xlabel('City')\n",
    "plt.xticks(rotation=45)\n",
    "plt.ylabel('Sales')\n",
    "plt.show()"
   ]
  },
  {
   "cell_type": "markdown",
   "metadata": {},
   "source": [
    "#### TASK 3: WHAT PRODUCT SOLD THE MOST? WHY DO YOU THINK IT SOLD THE MOST?"
   ]
  },
  {
   "cell_type": "code",
   "execution_count": null,
   "metadata": {},
   "outputs": [],
   "source": [
    "df['Order Date'] = pd.to_datetime(df['Order Date'], format='%Y-%m-%d %H:%M:%S')\n",
    "print(df['Order Date'].dtypes)\n"
   ]
  },
  {
   "cell_type": "code",
   "execution_count": null,
   "metadata": {},
   "outputs": [],
   "source": [
    "df['Hour'] = df['Order Date'].dt.hour\n",
    "df.head()"
   ]
  },
  {
   "cell_type": "code",
   "execution_count": null,
   "metadata": {},
   "outputs": [],
   "source": [
    "sales_values_hour = df.groupby('Hour')['Sales'].sum()\n",
    "hours = [\n",
    "hour for hour, sales in sales_values_hour.items()]\n",
    "list(set(df['Hour']))  # Convert the set to a list\n",
    "plt.plot(hours, sales_values_hour)\n",
    "# Set the x-axis ticks to show every value of the hour\n",
    "plt.xticks(hours)\n",
    "plt.grid()\n",
    "plt.xlabel('Hour')\n",
    "plt.ylabel('Sales')\n",
    "plt.show()"
   ]
  },
  {
   "cell_type": "code",
   "execution_count": null,
   "metadata": {},
   "outputs": [],
   "source": [
    "sales_values_hour = df.groupby('Hour')['Sales'].count()\n",
    "hours = [\n",
    "hour for hour, sales in sales_values_hour.items()]\n",
    "list(set(df['Hour']))  # Convert the set to a list\n",
    "plt.plot(hours, sales_values_hour)\n",
    "# Set the x-axis ticks to show every value of the hour\n",
    "plt.xticks(hours)\n",
    "plt.grid()\n",
    "plt.xlabel('Hour')\n",
    "plt.ylabel('Sales')\n",
    "plt.show()"
   ]
  },
  {
   "cell_type": "markdown",
   "metadata": {},
   "source": [
    "#### TASK 4: WHAT PRODUCT ARE MOST OFTEN SOLD TOGETHER?"
   ]
  },
  {
   "cell_type": "code",
   "execution_count": null,
   "metadata": {},
   "outputs": [],
   "source": [
    "df_dup = df[df['Order ID'].duplicated(keep = False)]\n",
    "df_dup.head()"
   ]
  },
  {
   "cell_type": "code",
   "execution_count": null,
   "metadata": {},
   "outputs": [],
   "source": [
    "groupProduct = lambda product: ', '.join(product)"
   ]
  },
  {
   "cell_type": "code",
   "execution_count": null,
   "metadata": {},
   "outputs": [],
   "source": [
    "# Use groupby and transform to create a new Series with aggregated 'Product' values\n",
    "agg_products = df_dup.groupby('Order ID')['Product'].transform(groupProduct)\n",
    "\n",
    "# Create a new DataFrame with the aggregated 'Product' values\n",
    "df_modified = df_dup.copy()  # Create a copy of the original DataFrame\n",
    "df_modified['All Products'] = agg_products\n",
    "df_modified.head()"
   ]
  },
  {
   "cell_type": "code",
   "execution_count": null,
   "metadata": {},
   "outputs": [],
   "source": [
    "df_dup2 = df_modified[['Order ID', 'All Products']].drop_duplicates()\n",
    "df_dup2.head()"
   ]
  },
  {
   "cell_type": "code",
   "execution_count": null,
   "metadata": {},
   "outputs": [],
   "source": [
    "df_dup2['All Products'].value_counts().head(10)"
   ]
  },
  {
   "cell_type": "code",
   "execution_count": null,
   "metadata": {},
   "outputs": [],
   "source": [
    "products_sold = df.groupby('Product')['Quantity Ordered'].sum()\n",
    "products_sold = products_sold.sort_values(ascending=False)\n",
    "print(products_sold)"
   ]
  },
  {
   "cell_type": "code",
   "execution_count": null,
   "metadata": {},
   "outputs": [],
   "source": [
    "# Convert the 'Price Each' column to strings\n",
    "df['Price Each'] = df['Price Each'].astype(str)\n",
    "\n",
    "# Remove non-numeric characters from the 'Price Each' column\n",
    "df['Price Each'] = df['Price Each'].str.replace(r'[^0-9.]', '', regex=True)\n",
    "\n",
    "# Convert the 'Price Each' column to a numeric data type\n",
    "df['Price Each'] = pd.to_numeric(df['Price Each'])\n",
    "\n",
    "# Calculate the mean of 'Price Each' for each product\n",
    "prices = df.groupby('Product')['Price Each'].mean()\n",
    "print(prices)"
   ]
  },
  {
   "cell_type": "code",
   "execution_count": null,
   "metadata": {},
   "outputs": [],
   "source": [
    "product_ls = products_sold.index  # Get the product names from the index of products_sold\n",
    "quantity_values = products_sold.values  # Get the quantity values\n",
    "\n",
    "plt.bar(product_ls, quantity_values)\n",
    "plt.xticks(product_ls, rotation=90, fontsize=8)\n",
    "plt.xlabel('Products')\n",
    "plt.ylabel('Quantity')\n",
    "plt.show()"
   ]
  },
  {
   "cell_type": "code",
   "execution_count": null,
   "metadata": {},
   "outputs": [],
   "source": [
    "x = product_ls\n",
    "y1 = products_sold\n",
    "y2 = prices\n",
    "\n",
    "fig, ax1 = plt.subplots()\n",
    "\n",
    "ax2 = ax1.twinx()\n",
    "ax1.bar(x, y1, color='g')\n",
    "ax2.plot(x, y2, 'b-')\n",
    "\n",
    "ax1.set_xticklabels(product_ls, rotation = 90, size = 8)\n",
    "ax1.set_xlabel('Product')  # Set x-axis label for the first axis\n",
    "ax1.set_ylabel('Quantity', color='g')  # Set y-axis label for the first axis\n",
    "ax2.set_ylabel('Price', color='b')  # Set y-axis label for the second axis\n",
    "\n",
    "plt.show()"
   ]
  }
 ],
 "metadata": {
  "kernelspec": {
   "display_name": "base",
   "language": "python",
   "name": "python3"
  },
  "language_info": {
   "codemirror_mode": {
    "name": "ipython",
    "version": 3
   },
   "file_extension": ".py",
   "mimetype": "text/x-python",
   "name": "python",
   "nbconvert_exporter": "python",
   "pygments_lexer": "ipython3",
   "version": "3.11.5"
  }
 },
 "nbformat": 4,
 "nbformat_minor": 2
}
